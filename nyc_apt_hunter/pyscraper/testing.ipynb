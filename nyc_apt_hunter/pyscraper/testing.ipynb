{
 "cells": [
  {
   "cell_type": "code",
   "execution_count": 23,
   "metadata": {},
   "outputs": [],
   "source": [
    "import requests\n",
    "from bs4 import BeautifulSoup"
   ]
  },
  {
   "cell_type": "code",
   "execution_count": 33,
   "metadata": {},
   "outputs": [],
   "source": [
    "url = 'https://apartments.com/manhattan-county-ny/500-to-750/1/'\n",
    "#url = 'https://streeteasy.com/for-rent/nyc/area:306,305,364,307,303,304,301,302,117,116,106,157,402,403%7Cno_fee:1'"
   ]
  },
  {
   "cell_type": "code",
   "execution_count": 38,
   "metadata": {},
   "outputs": [],
   "source": [
    "HEADERS = {'User-Agent': 'Mozilla/5.0 (Macintosh; Intel Mac OS X 10_15_7) AppleWebKit/537.36 (KHTML, like Gecko) Chrome/120.0.0.0 Safari/537.36'}"
   ]
  },
  {
   "cell_type": "code",
   "execution_count": 39,
   "metadata": {},
   "outputs": [
    {
     "ename": "ReadTimeout",
     "evalue": "HTTPSConnectionPool(host='apartments.com', port=443): Read timed out. (read timeout=10)",
     "output_type": "error",
     "traceback": [
      "\u001b[0;31m---------------------------------------------------------------------------\u001b[0m",
      "\u001b[0;31mtimeout\u001b[0m                                   Traceback (most recent call last)",
      "File \u001b[0;32m~/.pyenv/versions/3.9.10/lib/python3.9/site-packages/urllib3/connectionpool.py:536\u001b[0m, in \u001b[0;36mHTTPConnectionPool._make_request\u001b[0;34m(self, conn, method, url, body, headers, retries, timeout, chunked, response_conn, preload_content, decode_content, enforce_content_length)\u001b[0m\n\u001b[1;32m    535\u001b[0m \u001b[39mtry\u001b[39;00m:\n\u001b[0;32m--> 536\u001b[0m     response \u001b[39m=\u001b[39m conn\u001b[39m.\u001b[39;49mgetresponse()\n\u001b[1;32m    537\u001b[0m \u001b[39mexcept\u001b[39;00m (BaseSSLError, \u001b[39mOSError\u001b[39;00m) \u001b[39mas\u001b[39;00m e:\n",
      "File \u001b[0;32m~/.pyenv/versions/3.9.10/lib/python3.9/site-packages/urllib3/connection.py:461\u001b[0m, in \u001b[0;36mHTTPConnection.getresponse\u001b[0;34m(self)\u001b[0m\n\u001b[1;32m    460\u001b[0m \u001b[39m# Get the response from http.client.HTTPConnection\u001b[39;00m\n\u001b[0;32m--> 461\u001b[0m httplib_response \u001b[39m=\u001b[39m \u001b[39msuper\u001b[39;49m()\u001b[39m.\u001b[39;49mgetresponse()\n\u001b[1;32m    463\u001b[0m \u001b[39mtry\u001b[39;00m:\n",
      "File \u001b[0;32m~/.pyenv/versions/3.9.10/lib/python3.9/http/client.py:1377\u001b[0m, in \u001b[0;36mHTTPConnection.getresponse\u001b[0;34m(self)\u001b[0m\n\u001b[1;32m   1376\u001b[0m \u001b[39mtry\u001b[39;00m:\n\u001b[0;32m-> 1377\u001b[0m     response\u001b[39m.\u001b[39;49mbegin()\n\u001b[1;32m   1378\u001b[0m \u001b[39mexcept\u001b[39;00m \u001b[39mConnectionError\u001b[39;00m:\n",
      "File \u001b[0;32m~/.pyenv/versions/3.9.10/lib/python3.9/http/client.py:320\u001b[0m, in \u001b[0;36mHTTPResponse.begin\u001b[0;34m(self)\u001b[0m\n\u001b[1;32m    319\u001b[0m \u001b[39mwhile\u001b[39;00m \u001b[39mTrue\u001b[39;00m:\n\u001b[0;32m--> 320\u001b[0m     version, status, reason \u001b[39m=\u001b[39m \u001b[39mself\u001b[39;49m\u001b[39m.\u001b[39;49m_read_status()\n\u001b[1;32m    321\u001b[0m     \u001b[39mif\u001b[39;00m status \u001b[39m!=\u001b[39m CONTINUE:\n",
      "File \u001b[0;32m~/.pyenv/versions/3.9.10/lib/python3.9/http/client.py:281\u001b[0m, in \u001b[0;36mHTTPResponse._read_status\u001b[0;34m(self)\u001b[0m\n\u001b[1;32m    280\u001b[0m \u001b[39mdef\u001b[39;00m \u001b[39m_read_status\u001b[39m(\u001b[39mself\u001b[39m):\n\u001b[0;32m--> 281\u001b[0m     line \u001b[39m=\u001b[39m \u001b[39mstr\u001b[39m(\u001b[39mself\u001b[39;49m\u001b[39m.\u001b[39;49mfp\u001b[39m.\u001b[39;49mreadline(_MAXLINE \u001b[39m+\u001b[39;49m \u001b[39m1\u001b[39;49m), \u001b[39m\"\u001b[39m\u001b[39miso-8859-1\u001b[39m\u001b[39m\"\u001b[39m)\n\u001b[1;32m    282\u001b[0m     \u001b[39mif\u001b[39;00m \u001b[39mlen\u001b[39m(line) \u001b[39m>\u001b[39m _MAXLINE:\n",
      "File \u001b[0;32m~/.pyenv/versions/3.9.10/lib/python3.9/socket.py:704\u001b[0m, in \u001b[0;36mSocketIO.readinto\u001b[0;34m(self, b)\u001b[0m\n\u001b[1;32m    703\u001b[0m \u001b[39mtry\u001b[39;00m:\n\u001b[0;32m--> 704\u001b[0m     \u001b[39mreturn\u001b[39;00m \u001b[39mself\u001b[39;49m\u001b[39m.\u001b[39;49m_sock\u001b[39m.\u001b[39;49mrecv_into(b)\n\u001b[1;32m    705\u001b[0m \u001b[39mexcept\u001b[39;00m timeout:\n",
      "File \u001b[0;32m~/.pyenv/versions/3.9.10/lib/python3.9/ssl.py:1241\u001b[0m, in \u001b[0;36mSSLSocket.recv_into\u001b[0;34m(self, buffer, nbytes, flags)\u001b[0m\n\u001b[1;32m   1238\u001b[0m         \u001b[39mraise\u001b[39;00m \u001b[39mValueError\u001b[39;00m(\n\u001b[1;32m   1239\u001b[0m           \u001b[39m\"\u001b[39m\u001b[39mnon-zero flags not allowed in calls to recv_into() on \u001b[39m\u001b[39m%s\u001b[39;00m\u001b[39m\"\u001b[39m \u001b[39m%\u001b[39m\n\u001b[1;32m   1240\u001b[0m           \u001b[39mself\u001b[39m\u001b[39m.\u001b[39m\u001b[39m__class__\u001b[39m)\n\u001b[0;32m-> 1241\u001b[0m     \u001b[39mreturn\u001b[39;00m \u001b[39mself\u001b[39;49m\u001b[39m.\u001b[39;49mread(nbytes, buffer)\n\u001b[1;32m   1242\u001b[0m \u001b[39melse\u001b[39;00m:\n",
      "File \u001b[0;32m~/.pyenv/versions/3.9.10/lib/python3.9/ssl.py:1099\u001b[0m, in \u001b[0;36mSSLSocket.read\u001b[0;34m(self, len, buffer)\u001b[0m\n\u001b[1;32m   1098\u001b[0m \u001b[39mif\u001b[39;00m buffer \u001b[39mis\u001b[39;00m \u001b[39mnot\u001b[39;00m \u001b[39mNone\u001b[39;00m:\n\u001b[0;32m-> 1099\u001b[0m     \u001b[39mreturn\u001b[39;00m \u001b[39mself\u001b[39;49m\u001b[39m.\u001b[39;49m_sslobj\u001b[39m.\u001b[39;49mread(\u001b[39mlen\u001b[39;49m, buffer)\n\u001b[1;32m   1100\u001b[0m \u001b[39melse\u001b[39;00m:\n",
      "\u001b[0;31mtimeout\u001b[0m: The read operation timed out",
      "\nThe above exception was the direct cause of the following exception:\n",
      "\u001b[0;31mReadTimeoutError\u001b[0m                          Traceback (most recent call last)",
      "File \u001b[0;32m~/.pyenv/versions/3.9.10/lib/python3.9/site-packages/requests/adapters.py:486\u001b[0m, in \u001b[0;36mHTTPAdapter.send\u001b[0;34m(self, request, stream, timeout, verify, cert, proxies)\u001b[0m\n\u001b[1;32m    485\u001b[0m \u001b[39mtry\u001b[39;00m:\n\u001b[0;32m--> 486\u001b[0m     resp \u001b[39m=\u001b[39m conn\u001b[39m.\u001b[39;49murlopen(\n\u001b[1;32m    487\u001b[0m         method\u001b[39m=\u001b[39;49mrequest\u001b[39m.\u001b[39;49mmethod,\n\u001b[1;32m    488\u001b[0m         url\u001b[39m=\u001b[39;49murl,\n\u001b[1;32m    489\u001b[0m         body\u001b[39m=\u001b[39;49mrequest\u001b[39m.\u001b[39;49mbody,\n\u001b[1;32m    490\u001b[0m         headers\u001b[39m=\u001b[39;49mrequest\u001b[39m.\u001b[39;49mheaders,\n\u001b[1;32m    491\u001b[0m         redirect\u001b[39m=\u001b[39;49m\u001b[39mFalse\u001b[39;49;00m,\n\u001b[1;32m    492\u001b[0m         assert_same_host\u001b[39m=\u001b[39;49m\u001b[39mFalse\u001b[39;49;00m,\n\u001b[1;32m    493\u001b[0m         preload_content\u001b[39m=\u001b[39;49m\u001b[39mFalse\u001b[39;49;00m,\n\u001b[1;32m    494\u001b[0m         decode_content\u001b[39m=\u001b[39;49m\u001b[39mFalse\u001b[39;49;00m,\n\u001b[1;32m    495\u001b[0m         retries\u001b[39m=\u001b[39;49m\u001b[39mself\u001b[39;49m\u001b[39m.\u001b[39;49mmax_retries,\n\u001b[1;32m    496\u001b[0m         timeout\u001b[39m=\u001b[39;49mtimeout,\n\u001b[1;32m    497\u001b[0m         chunked\u001b[39m=\u001b[39;49mchunked,\n\u001b[1;32m    498\u001b[0m     )\n\u001b[1;32m    500\u001b[0m \u001b[39mexcept\u001b[39;00m (ProtocolError, \u001b[39mOSError\u001b[39;00m) \u001b[39mas\u001b[39;00m err:\n",
      "File \u001b[0;32m~/.pyenv/versions/3.9.10/lib/python3.9/site-packages/urllib3/connectionpool.py:844\u001b[0m, in \u001b[0;36mHTTPConnectionPool.urlopen\u001b[0;34m(self, method, url, body, headers, retries, redirect, assert_same_host, timeout, pool_timeout, release_conn, chunked, body_pos, preload_content, decode_content, **response_kw)\u001b[0m\n\u001b[1;32m    842\u001b[0m     new_e \u001b[39m=\u001b[39m ProtocolError(\u001b[39m\"\u001b[39m\u001b[39mConnection aborted.\u001b[39m\u001b[39m\"\u001b[39m, new_e)\n\u001b[0;32m--> 844\u001b[0m retries \u001b[39m=\u001b[39m retries\u001b[39m.\u001b[39;49mincrement(\n\u001b[1;32m    845\u001b[0m     method, url, error\u001b[39m=\u001b[39;49mnew_e, _pool\u001b[39m=\u001b[39;49m\u001b[39mself\u001b[39;49m, _stacktrace\u001b[39m=\u001b[39;49msys\u001b[39m.\u001b[39;49mexc_info()[\u001b[39m2\u001b[39;49m]\n\u001b[1;32m    846\u001b[0m )\n\u001b[1;32m    847\u001b[0m retries\u001b[39m.\u001b[39msleep()\n",
      "File \u001b[0;32m~/.pyenv/versions/3.9.10/lib/python3.9/site-packages/urllib3/util/retry.py:470\u001b[0m, in \u001b[0;36mRetry.increment\u001b[0;34m(self, method, url, response, error, _pool, _stacktrace)\u001b[0m\n\u001b[1;32m    469\u001b[0m \u001b[39mif\u001b[39;00m read \u001b[39mis\u001b[39;00m \u001b[39mFalse\u001b[39;00m \u001b[39mor\u001b[39;00m method \u001b[39mis\u001b[39;00m \u001b[39mNone\u001b[39;00m \u001b[39mor\u001b[39;00m \u001b[39mnot\u001b[39;00m \u001b[39mself\u001b[39m\u001b[39m.\u001b[39m_is_method_retryable(method):\n\u001b[0;32m--> 470\u001b[0m     \u001b[39mraise\u001b[39;00m reraise(\u001b[39mtype\u001b[39;49m(error), error, _stacktrace)\n\u001b[1;32m    471\u001b[0m \u001b[39melif\u001b[39;00m read \u001b[39mis\u001b[39;00m \u001b[39mnot\u001b[39;00m \u001b[39mNone\u001b[39;00m:\n",
      "File \u001b[0;32m~/.pyenv/versions/3.9.10/lib/python3.9/site-packages/urllib3/util/util.py:39\u001b[0m, in \u001b[0;36mreraise\u001b[0;34m(tp, value, tb)\u001b[0m\n\u001b[1;32m     38\u001b[0m         \u001b[39mraise\u001b[39;00m value\u001b[39m.\u001b[39mwith_traceback(tb)\n\u001b[0;32m---> 39\u001b[0m     \u001b[39mraise\u001b[39;00m value\n\u001b[1;32m     40\u001b[0m \u001b[39mfinally\u001b[39;00m:\n",
      "File \u001b[0;32m~/.pyenv/versions/3.9.10/lib/python3.9/site-packages/urllib3/connectionpool.py:790\u001b[0m, in \u001b[0;36mHTTPConnectionPool.urlopen\u001b[0;34m(self, method, url, body, headers, retries, redirect, assert_same_host, timeout, pool_timeout, release_conn, chunked, body_pos, preload_content, decode_content, **response_kw)\u001b[0m\n\u001b[1;32m    789\u001b[0m \u001b[39m# Make the request on the HTTPConnection object\u001b[39;00m\n\u001b[0;32m--> 790\u001b[0m response \u001b[39m=\u001b[39m \u001b[39mself\u001b[39;49m\u001b[39m.\u001b[39;49m_make_request(\n\u001b[1;32m    791\u001b[0m     conn,\n\u001b[1;32m    792\u001b[0m     method,\n\u001b[1;32m    793\u001b[0m     url,\n\u001b[1;32m    794\u001b[0m     timeout\u001b[39m=\u001b[39;49mtimeout_obj,\n\u001b[1;32m    795\u001b[0m     body\u001b[39m=\u001b[39;49mbody,\n\u001b[1;32m    796\u001b[0m     headers\u001b[39m=\u001b[39;49mheaders,\n\u001b[1;32m    797\u001b[0m     chunked\u001b[39m=\u001b[39;49mchunked,\n\u001b[1;32m    798\u001b[0m     retries\u001b[39m=\u001b[39;49mretries,\n\u001b[1;32m    799\u001b[0m     response_conn\u001b[39m=\u001b[39;49mresponse_conn,\n\u001b[1;32m    800\u001b[0m     preload_content\u001b[39m=\u001b[39;49mpreload_content,\n\u001b[1;32m    801\u001b[0m     decode_content\u001b[39m=\u001b[39;49mdecode_content,\n\u001b[1;32m    802\u001b[0m     \u001b[39m*\u001b[39;49m\u001b[39m*\u001b[39;49mresponse_kw,\n\u001b[1;32m    803\u001b[0m )\n\u001b[1;32m    805\u001b[0m \u001b[39m# Everything went great!\u001b[39;00m\n",
      "File \u001b[0;32m~/.pyenv/versions/3.9.10/lib/python3.9/site-packages/urllib3/connectionpool.py:538\u001b[0m, in \u001b[0;36mHTTPConnectionPool._make_request\u001b[0;34m(self, conn, method, url, body, headers, retries, timeout, chunked, response_conn, preload_content, decode_content, enforce_content_length)\u001b[0m\n\u001b[1;32m    537\u001b[0m \u001b[39mexcept\u001b[39;00m (BaseSSLError, \u001b[39mOSError\u001b[39;00m) \u001b[39mas\u001b[39;00m e:\n\u001b[0;32m--> 538\u001b[0m     \u001b[39mself\u001b[39;49m\u001b[39m.\u001b[39;49m_raise_timeout(err\u001b[39m=\u001b[39;49me, url\u001b[39m=\u001b[39;49murl, timeout_value\u001b[39m=\u001b[39;49mread_timeout)\n\u001b[1;32m    539\u001b[0m     \u001b[39mraise\u001b[39;00m\n",
      "File \u001b[0;32m~/.pyenv/versions/3.9.10/lib/python3.9/site-packages/urllib3/connectionpool.py:370\u001b[0m, in \u001b[0;36mHTTPConnectionPool._raise_timeout\u001b[0;34m(self, err, url, timeout_value)\u001b[0m\n\u001b[1;32m    369\u001b[0m \u001b[39mif\u001b[39;00m \u001b[39misinstance\u001b[39m(err, SocketTimeout):\n\u001b[0;32m--> 370\u001b[0m     \u001b[39mraise\u001b[39;00m ReadTimeoutError(\n\u001b[1;32m    371\u001b[0m         \u001b[39mself\u001b[39m, url, \u001b[39mf\u001b[39m\u001b[39m\"\u001b[39m\u001b[39mRead timed out. (read timeout=\u001b[39m\u001b[39m{\u001b[39;00mtimeout_value\u001b[39m}\u001b[39;00m\u001b[39m)\u001b[39m\u001b[39m\"\u001b[39m\n\u001b[1;32m    372\u001b[0m     ) \u001b[39mfrom\u001b[39;00m \u001b[39merr\u001b[39;00m\n\u001b[1;32m    374\u001b[0m \u001b[39m# See the above comment about EAGAIN in Python 3.\u001b[39;00m\n",
      "\u001b[0;31mReadTimeoutError\u001b[0m: HTTPSConnectionPool(host='apartments.com', port=443): Read timed out. (read timeout=10)",
      "\nDuring handling of the above exception, another exception occurred:\n",
      "\u001b[0;31mReadTimeout\u001b[0m                               Traceback (most recent call last)",
      "Cell \u001b[0;32mIn[39], line 1\u001b[0m\n\u001b[0;32m----> 1\u001b[0m res \u001b[39m=\u001b[39m requests\u001b[39m.\u001b[39;49mget(url, headers\u001b[39m=\u001b[39;49mHEADERS, timeout\u001b[39m=\u001b[39;49m\u001b[39m10\u001b[39;49m)\n\u001b[1;32m      2\u001b[0m res\u001b[39m.\u001b[39mstatus_code\n",
      "File \u001b[0;32m~/.pyenv/versions/3.9.10/lib/python3.9/site-packages/requests/api.py:73\u001b[0m, in \u001b[0;36mget\u001b[0;34m(url, params, **kwargs)\u001b[0m\n\u001b[1;32m     62\u001b[0m \u001b[39mdef\u001b[39;00m \u001b[39mget\u001b[39m(url, params\u001b[39m=\u001b[39m\u001b[39mNone\u001b[39;00m, \u001b[39m*\u001b[39m\u001b[39m*\u001b[39mkwargs):\n\u001b[1;32m     63\u001b[0m \u001b[39m    \u001b[39m\u001b[39mr\u001b[39m\u001b[39m\"\"\"Sends a GET request.\u001b[39;00m\n\u001b[1;32m     64\u001b[0m \n\u001b[1;32m     65\u001b[0m \u001b[39m    :param url: URL for the new :class:`Request` object.\u001b[39;00m\n\u001b[0;32m   (...)\u001b[0m\n\u001b[1;32m     70\u001b[0m \u001b[39m    :rtype: requests.Response\u001b[39;00m\n\u001b[1;32m     71\u001b[0m \u001b[39m    \"\"\"\u001b[39;00m\n\u001b[0;32m---> 73\u001b[0m     \u001b[39mreturn\u001b[39;00m request(\u001b[39m\"\u001b[39;49m\u001b[39mget\u001b[39;49m\u001b[39m\"\u001b[39;49m, url, params\u001b[39m=\u001b[39;49mparams, \u001b[39m*\u001b[39;49m\u001b[39m*\u001b[39;49mkwargs)\n",
      "File \u001b[0;32m~/.pyenv/versions/3.9.10/lib/python3.9/site-packages/requests/api.py:59\u001b[0m, in \u001b[0;36mrequest\u001b[0;34m(method, url, **kwargs)\u001b[0m\n\u001b[1;32m     55\u001b[0m \u001b[39m# By using the 'with' statement we are sure the session is closed, thus we\u001b[39;00m\n\u001b[1;32m     56\u001b[0m \u001b[39m# avoid leaving sockets open which can trigger a ResourceWarning in some\u001b[39;00m\n\u001b[1;32m     57\u001b[0m \u001b[39m# cases, and look like a memory leak in others.\u001b[39;00m\n\u001b[1;32m     58\u001b[0m \u001b[39mwith\u001b[39;00m sessions\u001b[39m.\u001b[39mSession() \u001b[39mas\u001b[39;00m session:\n\u001b[0;32m---> 59\u001b[0m     \u001b[39mreturn\u001b[39;00m session\u001b[39m.\u001b[39;49mrequest(method\u001b[39m=\u001b[39;49mmethod, url\u001b[39m=\u001b[39;49murl, \u001b[39m*\u001b[39;49m\u001b[39m*\u001b[39;49mkwargs)\n",
      "File \u001b[0;32m~/.pyenv/versions/3.9.10/lib/python3.9/site-packages/requests/sessions.py:589\u001b[0m, in \u001b[0;36mSession.request\u001b[0;34m(self, method, url, params, data, headers, cookies, files, auth, timeout, allow_redirects, proxies, hooks, stream, verify, cert, json)\u001b[0m\n\u001b[1;32m    584\u001b[0m send_kwargs \u001b[39m=\u001b[39m {\n\u001b[1;32m    585\u001b[0m     \u001b[39m\"\u001b[39m\u001b[39mtimeout\u001b[39m\u001b[39m\"\u001b[39m: timeout,\n\u001b[1;32m    586\u001b[0m     \u001b[39m\"\u001b[39m\u001b[39mallow_redirects\u001b[39m\u001b[39m\"\u001b[39m: allow_redirects,\n\u001b[1;32m    587\u001b[0m }\n\u001b[1;32m    588\u001b[0m send_kwargs\u001b[39m.\u001b[39mupdate(settings)\n\u001b[0;32m--> 589\u001b[0m resp \u001b[39m=\u001b[39m \u001b[39mself\u001b[39;49m\u001b[39m.\u001b[39;49msend(prep, \u001b[39m*\u001b[39;49m\u001b[39m*\u001b[39;49msend_kwargs)\n\u001b[1;32m    591\u001b[0m \u001b[39mreturn\u001b[39;00m resp\n",
      "File \u001b[0;32m~/.pyenv/versions/3.9.10/lib/python3.9/site-packages/requests/sessions.py:703\u001b[0m, in \u001b[0;36mSession.send\u001b[0;34m(self, request, **kwargs)\u001b[0m\n\u001b[1;32m    700\u001b[0m start \u001b[39m=\u001b[39m preferred_clock()\n\u001b[1;32m    702\u001b[0m \u001b[39m# Send the request\u001b[39;00m\n\u001b[0;32m--> 703\u001b[0m r \u001b[39m=\u001b[39m adapter\u001b[39m.\u001b[39;49msend(request, \u001b[39m*\u001b[39;49m\u001b[39m*\u001b[39;49mkwargs)\n\u001b[1;32m    705\u001b[0m \u001b[39m# Total elapsed time of the request (approximately)\u001b[39;00m\n\u001b[1;32m    706\u001b[0m elapsed \u001b[39m=\u001b[39m preferred_clock() \u001b[39m-\u001b[39m start\n",
      "File \u001b[0;32m~/.pyenv/versions/3.9.10/lib/python3.9/site-packages/requests/adapters.py:532\u001b[0m, in \u001b[0;36mHTTPAdapter.send\u001b[0;34m(self, request, stream, timeout, verify, cert, proxies)\u001b[0m\n\u001b[1;32m    530\u001b[0m     \u001b[39mraise\u001b[39;00m SSLError(e, request\u001b[39m=\u001b[39mrequest)\n\u001b[1;32m    531\u001b[0m \u001b[39melif\u001b[39;00m \u001b[39misinstance\u001b[39m(e, ReadTimeoutError):\n\u001b[0;32m--> 532\u001b[0m     \u001b[39mraise\u001b[39;00m ReadTimeout(e, request\u001b[39m=\u001b[39mrequest)\n\u001b[1;32m    533\u001b[0m \u001b[39melif\u001b[39;00m \u001b[39misinstance\u001b[39m(e, _InvalidHeader):\n\u001b[1;32m    534\u001b[0m     \u001b[39mraise\u001b[39;00m InvalidHeader(e, request\u001b[39m=\u001b[39mrequest)\n",
      "\u001b[0;31mReadTimeout\u001b[0m: HTTPSConnectionPool(host='apartments.com', port=443): Read timed out. (read timeout=10)"
     ]
    }
   ],
   "source": [
    "res = requests.get(url, headers=HEADERS, timeout=10)\n",
    "res.status_code"
   ]
  },
  {
   "cell_type": "code",
   "execution_count": 11,
   "metadata": {},
   "outputs": [],
   "source": [
    "soup = BeautifulSoup(res.content)"
   ]
  },
  {
   "cell_type": "code",
   "execution_count": 12,
   "metadata": {},
   "outputs": [],
   "source": [
    "listings = soup.find_all(\"li\", {\"class\": \"searchCardList--listItem\"})"
   ]
  },
  {
   "cell_type": "code",
   "execution_count": 14,
   "metadata": {},
   "outputs": [
    {
     "data": {
      "text/plain": [
       "<li class=\"searchCardList--listItem\">\n",
       "<div class=\"listingCard listingCard--rentalCard jsItem\">\n",
       "<a aria-labelledby=\"info-4215116\" class=\"listingCard-globalLink jsGlobalListingCardLink featured-link-to-hdp\" data-featured-event-category=\"rentals_search\" data-featured-event-label=\"listing_id=4215116|slot=1\" data-label-id=\"4215116-featured\" data-map-points=\"40.73385521,-73.98955402\" href=\"https://streeteasy.com/building/the-mayfair-145-4-avenue-new_york/12p?featured=1\" rel=\"noopener\" se:behavior=\"hoverable selectable mappable\" se:map=\"map\" se:map:point=\"40.73385521,-73.98955402\" target=\"_blank\"></a>\n",
       "<span class=\"u-displayNone\" id=\"info-4215116\">Rental Unit in East Village at 145 Fourth Avenue #12P for $4,250</span>\n",
       "<div class=\"listingCardTop\">\n",
       "<div class=\"SRPCarousel\">\n",
       "<div class=\"SRPCarousel-container jsSRPCarousel\" data-listing-id=\"4215116\" data-listing-type=\"rentals\">\n",
       "<div class=\"SRPCarousel-imageContainer jsSRPCarousel-item\" id=\"4215116-carousel-slide-0\">\n",
       "<img alt=\"145 Fourth Avenue #12P image 1 of 11\" class=\"SRPCarousel-image\" data-flickity-lazyload=\"https://photos.zillowstatic.com/fp/259b04ad8ea2ff6e425e8fbf33419942-se_medium_500_250.webp\" loading=\"lazy\" src=\"https://photos.zillowstatic.com/fp/259b04ad8ea2ff6e425e8fbf33419942-se_medium_500_250.webp\"/>\n",
       "</div>\n",
       "<div class=\"SRPCarousel-imageContainer jsSRPCarousel-item\" id=\"4215116-carousel-slide-1\">\n",
       "<img alt=\"145 Fourth Avenue #12P image 2 of 11\" class=\"SRPCarousel-image\" data-flickity-lazyload=\"https://photos.zillowstatic.com/fp/00ef51529a24f86d4381e64fa2c2f92a-se_medium_500_250.webp\" src=\"//cdn-assets-s3.streeteasy.com/assets/default/bg_mouse_grey-f8f0363ffd6f237321c7eeb72f10ef0a154b4cd2f8b547ea7b037ffa3288e362.svg\"/>\n",
       "</div>\n",
       "<div class=\"SRPCarousel-imageContainer jsSRPCarousel-item\" id=\"4215116-carousel-slide-2\">\n",
       "<img alt=\"145 Fourth Avenue #12P image 3 of 11\" class=\"SRPCarousel-image\" data-flickity-lazyload=\"https://photos.zillowstatic.com/fp/b89273ec0094f0ff5c3c4e99a33a478e-se_medium_500_250.webp\" src=\"//cdn-assets-s3.streeteasy.com/assets/default/bg_mouse_grey-f8f0363ffd6f237321c7eeb72f10ef0a154b4cd2f8b547ea7b037ffa3288e362.svg\"/>\n",
       "</div>\n",
       "<div class=\"SRPCarousel-imageContainer jsSRPCarousel-item\" id=\"4215116-carousel-slide-3\">\n",
       "<img alt=\"145 Fourth Avenue #12P image 4 of 11\" class=\"SRPCarousel-image\" data-flickity-lazyload=\"https://photos.zillowstatic.com/fp/e1b1308ecfb95d027990ecafeee8f1d5-se_medium_500_250.webp\" src=\"//cdn-assets-s3.streeteasy.com/assets/default/bg_mouse_grey-f8f0363ffd6f237321c7eeb72f10ef0a154b4cd2f8b547ea7b037ffa3288e362.svg\"/>\n",
       "</div>\n",
       "<div class=\"SRPCarousel-imageContainer jsSRPCarousel-item\" id=\"4215116-carousel-slide-4\">\n",
       "<img alt=\"145 Fourth Avenue #12P image 5 of 11\" class=\"SRPCarousel-image\" data-flickity-lazyload=\"https://photos.zillowstatic.com/fp/32ca66add4871078041dfdf164f190e1-se_medium_500_250.webp\" src=\"//cdn-assets-s3.streeteasy.com/assets/default/bg_mouse_grey-f8f0363ffd6f237321c7eeb72f10ef0a154b4cd2f8b547ea7b037ffa3288e362.svg\"/>\n",
       "</div>\n",
       "<div class=\"SRPCarousel-imageContainer jsSRPCarousel-item\" id=\"4215116-carousel-slide-5\">\n",
       "<img alt=\"145 Fourth Avenue #12P image 6 of 11\" class=\"SRPCarousel-image\" data-flickity-lazyload=\"https://photos.zillowstatic.com/fp/0054612fb042dca9c39a93e33b3b6f52-se_medium_500_250.webp\" src=\"//cdn-assets-s3.streeteasy.com/assets/default/bg_mouse_grey-f8f0363ffd6f237321c7eeb72f10ef0a154b4cd2f8b547ea7b037ffa3288e362.svg\"/>\n",
       "</div>\n",
       "<div class=\"SRPCarousel-imageContainer jsSRPCarousel-item\" id=\"4215116-carousel-slide-6\">\n",
       "<img alt=\"145 Fourth Avenue #12P image 7 of 11\" class=\"SRPCarousel-image\" data-flickity-lazyload=\"https://photos.zillowstatic.com/fp/6c3630e8950a8cfce055f5eb86c58538-se_medium_500_250.webp\" src=\"//cdn-assets-s3.streeteasy.com/assets/default/bg_mouse_grey-f8f0363ffd6f237321c7eeb72f10ef0a154b4cd2f8b547ea7b037ffa3288e362.svg\"/>\n",
       "</div>\n",
       "<div class=\"SRPCarousel-imageContainer jsSRPCarousel-item\" id=\"4215116-carousel-slide-7\">\n",
       "<img alt=\"145 Fourth Avenue #12P image 8 of 11\" class=\"SRPCarousel-image\" data-flickity-lazyload=\"https://photos.zillowstatic.com/fp/b1d543bf1cb2f6d493e8fcdbb19a83d2-se_medium_500_250.webp\" src=\"//cdn-assets-s3.streeteasy.com/assets/default/bg_mouse_grey-f8f0363ffd6f237321c7eeb72f10ef0a154b4cd2f8b547ea7b037ffa3288e362.svg\"/>\n",
       "</div>\n",
       "<div class=\"SRPCarousel-imageContainer jsSRPCarousel-item\" id=\"4215116-carousel-slide-8\">\n",
       "<img alt=\"145 Fourth Avenue #12P image 9 of 11\" class=\"SRPCarousel-image\" data-flickity-lazyload=\"https://photos.zillowstatic.com/fp/57ea2d5ae225c860ae360a57cdfab50d-se_medium_500_250.webp\" src=\"//cdn-assets-s3.streeteasy.com/assets/default/bg_mouse_grey-f8f0363ffd6f237321c7eeb72f10ef0a154b4cd2f8b547ea7b037ffa3288e362.svg\"/>\n",
       "</div>\n",
       "<div class=\"SRPCarousel-imageContainer jsSRPCarousel-item\" id=\"4215116-carousel-slide-9\">\n",
       "<img alt=\"145 Fourth Avenue #12P image 10 of 11\" class=\"SRPCarousel-image\" data-flickity-lazyload=\"https://photos.zillowstatic.com/fp/39a6bad3b8120a58c702c36303cbcf45-se_medium_500_250.webp\" src=\"//cdn-assets-s3.streeteasy.com/assets/default/bg_mouse_grey-f8f0363ffd6f237321c7eeb72f10ef0a154b4cd2f8b547ea7b037ffa3288e362.svg\"/>\n",
       "</div>\n",
       "<div class=\"SRPCarousel-imageContainer jsSRPCarousel-item\" id=\"4215116-carousel-slide-10\">\n",
       "<img alt=\"145 Fourth Avenue #12P image 11 of 11\" class=\"SRPCarousel-image\" data-flickity-lazyload=\"https://s3.amazonaws.com/img.streeteasy.com/nyc/attachments/36508061/large/cb3933c907b0fd3e66c84c955dcc4417beb83d28.jpg\" src=\"//cdn-assets-s3.streeteasy.com/assets/default/bg_mouse_grey-f8f0363ffd6f237321c7eeb72f10ef0a154b4cd2f8b547ea7b037ffa3288e362.svg\"/>\n",
       "</div>\n",
       "</div>\n",
       "<div class=\"SRPCarousel-gradientOverlay\"></div>\n",
       "<div class=\"SRPCarousel-dotNav\">\n",
       "<div class=\"SRPCarousel-dotsContainer jsSRPCarouselDots\">\n",
       "<div class=\"SRPCarousel-dot jsSRPCarouselDot\"></div>\n",
       "<div class=\"SRPCarousel-dot jsSRPCarouselDot\"></div>\n",
       "<div class=\"SRPCarousel-dot jsSRPCarouselDot\"></div>\n",
       "<div class=\"SRPCarousel-dot jsSRPCarouselDot\"></div>\n",
       "<div class=\"SRPCarousel-dot jsSRPCarouselDot isSmallDot\"></div>\n",
       "<div class=\"SRPCarousel-dot jsSRPCarouselDot isHiddenDot\"></div>\n",
       "<div class=\"SRPCarousel-dot jsSRPCarouselDot isHiddenDot\"></div>\n",
       "<div class=\"SRPCarousel-dot jsSRPCarouselDot isHiddenDot\"></div>\n",
       "<div class=\"SRPCarousel-dot jsSRPCarouselDot isHiddenDot\"></div>\n",
       "<div class=\"SRPCarousel-dot jsSRPCarouselDot isHiddenDot\"></div>\n",
       "<div class=\"SRPCarousel-dot jsSRPCarouselDot isHiddenDot\"></div>\n",
       "</div>\n",
       "</div>\n",
       "<button aria-label=\"Gallery Navigate Left\" class=\"SRPCarousel-navButton SRPCarousel-navButtonLeft jsLeftButton\" type=\"button\"></button>\n",
       "<button aria-label=\"Gallery Navigate Right\" class=\"SRPCarousel-navButton SRPCarousel-navButtonRight jsRightButton\" type=\"button\"></button>\n",
       "</div>\n",
       "<div class=\"listingCardTop--leftUpperOverlay\">\n",
       "<!--recommended_for_you-->\n",
       "<p class=\"listingCardLabel-wrap\">\n",
       "<span class=\"listingCardLabel listingCardLabel-black isFeaturedListingImpression\" data-featured-event-category=\"rentals_search\" data-featured-event-label=\"listing_id=4215116|slot=1\">\n",
       "          Featured\n",
       "        </span>\n",
       "</p>\n",
       "<!--sponsored_similarity_label_placeholder-->\n",
       "<p class=\"listingCardLabel-wrap\">\n",
       "<span class=\"listingCardLabel listingCardLabel-yellow\">\n",
       "            Open House, Sat 8-6\n",
       "          </span>\n",
       "</p>\n",
       "</div>\n",
       "</div>\n",
       "<div class=\"listingCardBottom listingCardBottom-rental\">\n",
       "<div class=\"listingCardBottom--upperBlock\">\n",
       "<!-- Building type & neighborhood -->\n",
       "<p class=\"listingCardLabel listingCardLabel-grey listingCard-upperShortLabel\">\n",
       "        Rental Unit in East Village\n",
       "      </p>\n",
       "<!-- Address -->\n",
       "<address class=\"listingCard-addressLabel listingCard-upperShortLabel\">\n",
       "<a class=\"listingCard-link jsCardLinkGA featured-link-to-hdp\" data-featured-event-category=\"rentals_search\" data-featured-event-label=\"listing_id=4215116|slot=1\" href=\"https://streeteasy.com/building/the-mayfair-145-4-avenue-new_york/12p?featured=1\" tabindex=\"-1\">145 Fourth Avenue #12P</a>\n",
       "</address>\n",
       "<!-- Price Info -->\n",
       "<div class=\"listingCardBottom-emphasis\">\n",
       "<span class=\"price listingCard-priceMargin\">$4,250</span>\n",
       "<div class=\"listingCard-pill\" role=\"note\">\n",
       "<span aria-hidden=\"true\" class=\"listingCard-priceArrow\">↑</span>\n",
       "<span class=\"u-visuallyHidden\">Price Increase</span>\n",
       "<span class=\"listingCard-pillText\">$151</span>\n",
       "</div>\n",
       "<span class=\"NoFeeBadge NoFeeBadge--SRPCard\">NO FEE</span>\n",
       "</div>\n",
       "<!-- Amenities Match -->\n",
       "</div>\n",
       "<div class=\"listingCardBottom--lowerBlock\">\n",
       "<div class=\"listingCardBottom--detailPanel\">\n",
       "<div class=\"listingDetailDefinitions\">\n",
       "<div class=\"listingDetailDefinitionsItem\">\n",
       "<span class=\"listingDetailDefinitionsIcon listingDetailDefinitionsIcon--bed\"></span>\n",
       "<span class=\"listingDetailDefinitionsText\">Studio</span>\n",
       "</div>\n",
       "<div class=\"listingDetailDefinitions-separator\"></div>\n",
       "<div class=\"listingDetailDefinitionsItem\">\n",
       "<span class=\"listingDetailDefinitionsIcon listingDetailDefinitionsIcon--bath\"></span>\n",
       "<span class=\"listingDetailDefinitionsText\">1 Bath</span>\n",
       "</div>\n",
       "<div class=\"listingDetailDefinitions-separator\"></div>\n",
       "<div class=\"listingDetailDefinitionsItem\">\n",
       "<span class=\"listingDetailDefinitionsIcon listingDetailDefinitionsIcon--measure\"></span>\n",
       "<span class=\"listingDetailDefinitionsText\">\n",
       "                550\n",
       "                <span class=\"u-visuallyHidden\">square feet</span>\n",
       "<span aria-hidden=\"true\">ft²</span>\n",
       "</span>\n",
       "</div>\n",
       "</div>\n",
       "</div>\n",
       "<p class=\"listingCardBottom--finePrint\">\n",
       "        Listing by Manhattan Realty Group\n",
       "      </p>\n",
       "</div>\n",
       "<button aria-label=\"Save listing\" class=\"listingSave jsCardSaveButton jsCardModalSave\" data-item-id=\"4215116\" data-item-type=\"rental\" type=\"submit\">\n",
       "<span class=\"listingSave-line\"></span>\n",
       "<span class=\"listingSave-line listingSave-line--90\"></span>\n",
       "<span class=\"listingSave-line listingSave-line--45\"></span>\n",
       "<span class=\"listingSave-line listingSave-line--135\"></span>\n",
       "</button>\n",
       "<a class=\"listingSave--actions jsCardSaveLegacy saveItemAfterAuthentication\" data-item-id=\"4215116\" data-item-type=\"rental\" href=\"#\" id=\"add_folder_entry_Rental_4215116_link\" onclick=\"window.gon.state.analyticsData = { 'source': 'srp_save_listing', 'itemId': '4215116', 'itemType': 'Rental' };\" rel=\"nofollow\"></a>\n",
       "<div class=\"se_embed_react\" data-react-component=\"\" data-se-entry-hydrate=\"userAuth\" data-se-id=\"se_embed_react_d3dc7014-7c87-450e-89fc-0c3656a8b70c\"></div>\n",
       "<script>\n",
       "window[\"se_embed_react_d3dc7014-7c87-450e-89fc-0c3656a8b70c\"] = [\"UserAuthModal\",{}]\n",
       "</script>\n",
       "</div>\n",
       "</div>\n",
       "</li>"
      ]
     },
     "execution_count": 14,
     "metadata": {},
     "output_type": "execute_result"
    }
   ],
   "source": [
    "listings[0]"
   ]
  },
  {
   "cell_type": "code",
   "execution_count": null,
   "metadata": {},
   "outputs": [],
   "source": []
  }
 ],
 "metadata": {
  "kernelspec": {
   "display_name": "Python 3",
   "language": "python",
   "name": "python3"
  },
  "language_info": {
   "codemirror_mode": {
    "name": "ipython",
    "version": 3
   },
   "file_extension": ".py",
   "mimetype": "text/x-python",
   "name": "python",
   "nbconvert_exporter": "python",
   "pygments_lexer": "ipython3",
   "version": "3.9.10"
  },
  "orig_nbformat": 4,
  "vscode": {
   "interpreter": {
    "hash": "8ec655df18eb5cd9d10cdcdbd578904a3e4d848c85ce08aba65078ef0ebb8931"
   }
  }
 },
 "nbformat": 4,
 "nbformat_minor": 2
}
